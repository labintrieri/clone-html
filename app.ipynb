{
 "cells": [
  {
   "cell_type": "code",
   "execution_count": 34,
   "metadata": {},
   "outputs": [],
   "source": [
    "import requests\n",
    "import pandas as pd\n",
    "\n",
    "# URL da API\n",
    "url_deputados = 'https://dadosabertos.camara.leg.br/api/v2/deputados'\n",
    "\n",
    "# Obter dados dos deputados\n",
    "resp_deputados = requests.get(url_deputados).json()\n",
    "\n",
    "# Lista para armazenar os dados dos deputados\n",
    "dados_deputados = []\n",
    "\n",
    "# Dicionário para armazenar os discursos dos deputados\n",
    "dados_discursos = []\n",
    "\n",
    "# Parâmetros para obter discursos\n",
    "data_inicio = '2023-01-01'\n",
    "data_fim = '2023-12-31'\n"
   ]
  },
  {
   "cell_type": "code",
   "execution_count": 35,
   "metadata": {},
   "outputs": [],
   "source": [
    "# Iterar sobre os dados dos deputados\n",
    "for d in resp_deputados['dados']:\n",
    "    if d['nome'] == 'Erika Hilton':\n",
    "    # Salvar informações dos deputados\n",
    "        dados_deputados.append({\n",
    "            'Nome': d['nome'],\n",
    "            'ID': d['id'],\n",
    "            'UF': d['siglaUf'],\n",
    "            'Partido': d['siglaPartido'],\n",
    "            'idLegislatura': d['idLegislatura']\n",
    "        })\n",
    "        #Parâmetros\n",
    "        params = {\n",
    "            'dataInicio': data_inicio,\n",
    "            'dataFim': data_fim,\n",
    "            'idLegislatura': d['idLegislatura'],\n",
    "            'ordenarPor': 'dataHoraInicio',\n",
    "            'ordem': 'ASC'\n",
    "        }\n",
    "        # Obter discursos dos deputados\n",
    "        url_discursos = f'https://dadosabertos.camara.leg.br/api/v2/deputados/{d[\"id\"]}/discursos'\n",
    "        resp_discursos = requests.get(url_discursos, params=params).json()\n",
    "        \n",
    "        # Adicionar discursos à lista de dados dos discursos\n",
    "        for discurso in resp_discursos['dados']:\n",
    "            dados_discursos.append({\n",
    "                'ID Deputado': d['id'],\n",
    "                'Nome Deputado': d['nome'],\n",
    "                'DataHoraInicio': discurso['dataHoraInicio'],\n",
    "                'DataHoraFim': discurso['dataHoraFim'],\n",
    "                'TipoDiscurso': discurso['tipoDiscurso'],\n",
    "                'Transcricao': discurso['transcricao']\n",
    "            })\n",
    "\n",
    "# Criar DataFrame com as informações dos deputados\n",
    "df_deputados = pd.DataFrame(dados_deputados)\n",
    "\n",
    "# Criar DataFrame com os dados dos discursos\n",
    "df_discursos = pd.DataFrame(dados_discursos)\n",
    "\n",
    "# Salvar DataFrame dos deputados em um arquivo CSV\n",
    "df_deputados.to_csv('deputados.csv', index=False, encoding='utf-8')\n",
    "\n",
    "# Salvar DataFrame dos discursos em um arquivo CSV\n",
    "df_discursos.to_csv('discursos.csv', index=False, encoding='utf-8')\n",
    "\n"
   ]
  },
  {
   "cell_type": "code",
   "execution_count": 37,
   "metadata": {},
   "outputs": [],
   "source": [
    "#Frases Erika Hilton\n",
    "frases_erika_hilton = [\n",
    "    {'DataHoraInicio': '2023-03-08T14:04', 'frase':'Nós não poderemos falar em democracia plena se todos os indivíduos da sociedade brasileira não tiverem representação nos assentos desta Casa de Leis, não tiverem representação neste espaço legislativo.'},\n",
    "    {'DataHoraInicio': '2023-03-08T14:04', 'frase':'Nós louvamos, Deputada Maria do Rosário, nossa chegada a este espaço, porque somos os primeiros frutos de uma luta histórica, mas espero que não sejamos as últimas nem as únicas.'},\n",
    "    {'DataHoraInicio': '2023-07-05T20:08', 'frase':'Eu, como filha de uma mulher evangélica, crescida em um lar evangélico, não tenho nenhum tipo de compromisso com o bloqueio da manifestação religiosa.'},\n",
    "    {'DataHoraInicio': '2023-07-05T20:08', 'frase': 'O que nós não queremos é que se confundam criminosos com evangélicos, que se deturpe a palavra de Deus, que se use do Evangelho para pregar violência contra o grupo que já é historicamente violentado.'},\n",
    "]"
   ]
  }
 ],
 "metadata": {
  "kernelspec": {
   "display_name": "Python 3",
   "language": "python",
   "name": "python3"
  },
  "language_info": {
   "codemirror_mode": {
    "name": "ipython",
    "version": 3
   },
   "file_extension": ".py",
   "mimetype": "text/x-python",
   "name": "python",
   "nbconvert_exporter": "python",
   "pygments_lexer": "ipython3",
   "version": "3.12.3"
  }
 },
 "nbformat": 4,
 "nbformat_minor": 2
}
